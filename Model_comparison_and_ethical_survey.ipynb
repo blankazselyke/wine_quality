{
  "nbformat": 4,
  "nbformat_minor": 0,
  "metadata": {
    "colab": {
      "provenance": []
    },
    "kernelspec": {
      "name": "python3",
      "display_name": "Python 3"
    },
    "language_info": {
      "name": "python"
    }
  },
  "cells": [
    {
      "cell_type": "markdown",
      "source": [
        "# Comparison of whitebox and blackbox models\n",
        "\n",
        "## Main similarities\n",
        "\n",
        "Both models identified alcohol content as the most influential feature in predicting wine quality. This aligns with domain knowledge as higher alcohol levels often correlate with better fermentation control and higher quality wines. Volatile acidity was consistently the second most important feature across both models, supporting the idea that acidity levels play a significant role in wine quality perception. The agreement on these top two features provides confidence in their robustness and relevance, as two very different modeling approaches arrived at similar conclusions.\n",
        "\n",
        "## Main differences\n",
        "\n",
        "In the decision tree, fixed acidity appeared at the third level of the tree, indicating that it played a meaningful role in the model's classification decisions. In contrast, the Shapley value analysis of the neural network showed that fixed acidity had minimal impact on its predictions, ranking among the least influential features overall. Looking back at earlier exploratory analysis, I observed that fixed acidity was positively correlated with red wine quality but negatively associated with white wine quality.\n",
        "\n",
        "Another difference is the use of the wine type feature. While it was available to both models, the decision tree did not use it in its splits, whereas the neural network assigned it a small but noticeable importance. This could raise concerns, as red and white wines have different characteristics that can affect quality. However, by not relying on wine type, the decision tree may avoid potential bias such as the neural network's tendency to favor white wines.\n",
        "\n",
        "## Results\n",
        "\n",
        "| Metric                              | Decision Tree | Neural Network |\n",
        "|-------------------------------------|----------------|----------------|\n",
        "| Accuracy                            | 0.785          | 0.810          |\n",
        "| Sensitivity / Recall                | 0.589          | 0.634          |\n",
        "| Specificity                         | 0.855          | 0.873          |\n",
        "| Precision                           | 0.592          | 0.640          |\n",
        "| F1 Score                            | 0.591          | 0.637          |\n",
        "| AUROC                               | 0.758          | 0.864          |\n",
        "| AUPR                                | 0.531          | 0.690          |\n",
        "\n",
        "The neural network outperformed the decision tree across all key metrics, particularly in AUROC and AUPR.\n",
        "\n"
      ],
      "metadata": {
        "id": "E6mBAZWy1yqe"
      }
    },
    {
      "cell_type": "markdown",
      "source": [
        "## Ethical Considerations\n",
        "\n",
        "### Does this activity involve the development, deployment and/or use of Artificial Intelligence-based systems?  \n",
        "**Answer**: **Yes**\n",
        "\n",
        "#### 1) Explanation on informing participants and/or end-users\n",
        "This project involves the use of AI systems, a decision tree (whitebox model) and a neural network (blackbox model) to classify wine quality based on physicochemical properties.\n",
        "\n",
        "- **User Interaction with AI**:  \n",
        "  Users of the system (e.g., researchers, data scientists) are clearly informed that they are interacting with machine learning models. The nature and purpose of the AI systems are explicitly communicated in the documentation.\n",
        "\n",
        "- **Abilities, Limitations, Risks, and Benefits**:  \n",
        "  The AI models can assist in identifying whether a wine sample is likely to be of good or poor quality. However, wine quality is partly subjective and influenced by individual preferences, which the models cannot capture. Benefits include faster, consistent evaluations based on objective input features, while risks include possible overfitting or biased outcomes if the models are misused or deployed in new contexts without further validation.\n",
        "\n",
        "- **Decision Logic Transparency**:  \n",
        "  The decision tree model provides a fully interpretable decision-making path, allowing users to trace how a classification was reached. For the neural network model, both SHAP (SHapley Additive exPlanations) and LIME (Local Interpretable Model-Agnostic Explanations) were used to provide post hoc interpretability. These tools help identify the contribution of each feature to the model's predictions, both globally (SHAP) and locally (LIME). These interpretability methods and their results are documented.\n",
        "\n",
        "\n",
        "#### 2) Measures to avoid bias in input data and algorithm design\n",
        "- The original dataset was found to be imbalanced, particularly between classes representing different quality levels.\n",
        "- To mitigate bias, undersampling techniques were applied to balance the class distribution. Additionally, multiple performance metrics (accuracy, precision, recall, and F1-score) were used to evaluate fairness across classes.\n",
        "- Interpretability tools were employed (LIME/SHAP) to detect if certain features unfairly dominated the model's decisions.\n",
        "\n",
        "#### 3) Respect for fundamental human rights and freedoms\n",
        "- The dataset used is publicly available and fully anonymized. It contains no personally identifiable information or sensitive human data.\n",
        "- Wine brands and the identities of the original quality evaluators are not disclosed in the dataset, protecting privacy.\n",
        "- No user data is collected, stored, or processed.\n",
        "- The AI system does not interfere with or replace human autonomy; it serves as a supplementary classification tool and not a decision-maker.\n",
        "\n",
        "#### 4) Ethical risks and mitigation measures\n",
        "- This project carries minimal ethical risks, given its use of public, anonymized data and its application in a low-stakes domain (wine quality classification).\n",
        "- Nonetheless, potential risks such as bias in classification or misinterpretation of model outputs were considered.\n",
        "- Mitigation measures include:\n",
        "  - Balancing the dataset to reduce training bias,\n",
        "  - Applying model-agnostic interpretability techniques (LIME and SHAP),\n",
        "  - Transparent reporting of performance and limitations,\n",
        "  - Emphasizing that AI-based recommendations should not replace expert judgment in high-stakes domains.\n",
        "\n",
        "### Could the AI-based system/technique potentially stigmatise or discriminate against people?\n",
        "\n",
        "**Answer**: **No**\n",
        "\n",
        "The AI system developed in this project does not involve any personal or demographic data related to individuals. The dataset used exclusively contains physicochemical properties of wine samples and their associated quality ratings. No human-related features (e.g., gender, race, age, etc.) are included. Therefore, there is no risk of bias, discrimination, or stigmatisation against any individual or group.\n",
        "\n",
        "### Does the AI system/technique interact, replace or influence human decision-making processes?\n",
        "\n",
        "**Answer**: **No**\n",
        "\n",
        "The AI models developed in this project are used solely for research and educational purposes. Their objective is to predict wine quality based on physicochemical characteristics. These predictions do not influence or replace any critical human decision-making processes.\n",
        "\n",
        "### Does the AI system/technique have the potential to lead to negative social (e.g. on democracy, media, labour market, freedoms, educational choices, mass surveillance) and/or environmental impacts either through intended applications or plausible alternative uses?\n",
        "\n",
        "**Answer**: **No**\n",
        "\n",
        "No foreseeable negative societal or environmental impacts are expected due to the very specific, low-risk application domain. The models do not interact with sensitive human attributes, make social predictions, or impact public systems.\n",
        "\n",
        "### Does this activity involve the use of AI in a weapon system?\n",
        "**Answer**: **No**\n",
        "\n",
        "### Does the AI to be developed/used in the project raise any other ethical issues not covered by the questions above?\n",
        "**Answer**: **No**\n",
        "\n",
        "The AI models developed in this project are used solely for the classification of wine quality in an academic and technical context. They do not involve subliminal messaging, covert data collection, deceptive mechanisms, or any manipulative behavior. Although the subject matter relates to alcoholic beverages, the project does not promote or encourage alcohol consumption. As such, no additional ethical concerns beyond those already addressed are applicable to this project.\n",
        "\n"
      ],
      "metadata": {
        "id": "uS8bESG-Ayip"
      }
    }
  ]
}